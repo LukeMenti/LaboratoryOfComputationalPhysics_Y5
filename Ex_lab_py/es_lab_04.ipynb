{
 "cells": [
  {
   "cell_type": "markdown",
   "id": "5cd81fb4",
   "metadata": {},
   "source": [
    "# Laboratory of Computational Physics Mod. A - Pylab 04\n",
    "\n",
    "## Student\n",
    "\n",
    "Luca Menti\n",
    "\n",
    "## ID\n",
    "\n",
    "2063594\n",
    "\n",
    "\n",
    "## Email\n",
    "\n",
    "luca.menti@studenti.unipd.it\n",
    "\n",
    "## Course\n",
    "\n",
    "Physics of Data"
   ]
  },
  {
   "cell_type": "markdown",
   "id": "3b1c324c",
   "metadata": {},
   "source": [
    "# Exercise 1\n",
    " \n",
    "### 1. Find the row, column and overall means for the following matrix:\n",
    "\n",
    "### `m = np.arange(12).reshape((3,4))`\n"
   ]
  },
  {
   "cell_type": "code",
   "execution_count": 2,
   "id": "87ec8fbc",
   "metadata": {},
   "outputs": [
    {
     "name": "stdout",
     "output_type": "stream",
     "text": [
      "the matrix  is: [[ 0  1  2  3]\n",
      " [ 4  5  6  7]\n",
      " [ 8  9 10 11]]\n",
      "the mean of each column is: [4. 5. 6. 7.]\n",
      "the mean between all columns' means is: 5.5\n",
      "the mean of each row is: [1.5 5.5 9.5]\n",
      "the mean between all columns' means is: 5.5\n",
      "the mean of all values in matrix is: 5.5\n"
     ]
    }
   ],
   "source": [
    "import numpy as np\n",
    "\n",
    "m = np.arange(12).reshape((3,4))\n",
    "\n",
    "print (\"the matrix  is:\" , m)\n",
    "\n",
    "#Get the mean values over row  for each of 4 columns \n",
    "mcol = np.mean(m, axis = 0)\n",
    "print (\"the mean of each column is:\" , mcol)\n",
    "\n",
    "print(\"the mean between all columns' means is:\", sum(mcol)/len(mcol))\n",
    "\n",
    "\n",
    "# Get the mean values over column  for each of 3 rows \n",
    "mrow = np.mean(m, axis = 1)\n",
    "print (\"the mean of each row is:\", mrow)\n",
    "\n",
    "print(\"the mean between all columns' means is:\", sum(mrow)/len(mrow))\n",
    "\n",
    "# Get the mean of all values in matrix\n",
    "mean = np.mean(m)\n",
    "print (\"the mean of all values in matrix is:\", mean)"
   ]
  },
  {
   "cell_type": "markdown",
   "id": "20f51e3b",
   "metadata": {},
   "source": [
    "# Exercise 2\n",
    "\n",
    "### 2. Find the outer product of the following two vecotrs\n",
    "\n",
    "### `u = np.array([1,3,5,7])`\n",
    "\n",
    "### `v = np.array([2,4,6,8])`\n",
    "\n",
    "### Do this in the following ways:\n",
    "\n",
    "### - Using the function outer in numpy\n",
    "### - Using a nested for loop or list comprehension\n",
    "### - Using numpy broadcasting operatoins\n"
   ]
  },
  {
   "cell_type": "code",
   "execution_count": 3,
   "id": "0275fa83",
   "metadata": {},
   "outputs": [
    {
     "name": "stdout",
     "output_type": "stream",
     "text": [
      "the outer product using np.outer is: [[ 2  4  6  8]\n",
      " [ 6 12 18 24]\n",
      " [10 20 30 40]\n",
      " [14 28 42 56]]\n",
      "the outer product using nested foor loops is: [[ 2  4  6  8]\n",
      " [ 6 12 18 24]\n",
      " [10 20 30 40]\n",
      " [14 28 42 56]]\n",
      "the outer product using broadcasting is: [[ 2  4  6  8]\n",
      " [ 6 12 18 24]\n",
      " [10 20 30 40]\n",
      " [14 28 42 56]]\n"
     ]
    }
   ],
   "source": [
    "import array\n",
    "\n",
    "#vectors\n",
    "\n",
    "u = np.array([1,3,5,7])\n",
    "v = np.array([2,4,6,8])\n",
    "\n",
    "#numpy outer\n",
    "print(\"the outer product using np.outer is:\" , np.outer(u, v, out=None))\n",
    "\n",
    "\n",
    "\n",
    "#nested foor loops\n",
    "a=[]\n",
    "for i in v:\n",
    "     for j in u:\n",
    "        product = i*j\n",
    "        a.append(product)\n",
    "      \n",
    "        \n",
    "#transform the list into the array\n",
    "a=np.array(a) \n",
    "\n",
    "#transform the array into 4x4 array\n",
    "a=a.reshape(len(u),len(v))  \n",
    "#transpose\n",
    "a=a.T\n",
    "print(\"the outer product using nested foor loops is:\" , a)\n",
    "\n",
    "\n",
    "# broadcasting \n",
    "\n",
    "print(\"the outer product using broadcasting is:\" , u[..., None] * v[ None, :])"
   ]
  },
  {
   "cell_type": "markdown",
   "id": "393d88c9",
   "metadata": {},
   "source": [
    "# Exercise 3\n",
    "\n",
    "### 3. Create a 10 by 6 matrix of random uniform numbers. Set all rows with any entry less than 0.1 to be zero\n",
    "\n",
    "### Hint: Use the following numpy functions - np.random.random, np.any as well as Boolean indexing and the axis argument."
   ]
  },
  {
   "cell_type": "code",
   "execution_count": 4,
   "id": "7c4d7566",
   "metadata": {},
   "outputs": [
    {
     "name": "stdout",
     "output_type": "stream",
     "text": [
      "The random matrix is: [[0.60763188 0.80485651 0.05493416 0.76976318 0.34399733 0.2716872 ]\n",
      " [0.44764422 0.76862201 0.05010469 0.60563099 0.81845041 0.24001406]\n",
      " [0.66539509 0.09875203 0.60966365 0.98281843 0.29441553 0.31702871]\n",
      " [0.26820255 0.55558639 0.10318343 0.37842586 0.34446107 0.06937095]\n",
      " [0.56372517 0.41346965 0.75156831 0.6945988  0.71195809 0.9762981 ]\n",
      " [0.61711806 0.7086021  0.01994717 0.83970441 0.5406384  0.11610849]\n",
      " [0.56683304 0.60586893 0.61648269 0.57838253 0.63281062 0.38704439]\n",
      " [0.78236298 0.91666952 0.91615957 0.32984449 0.91798541 0.42709981]\n",
      " [0.45271388 0.53200464 0.19887458 0.4768846  0.19254795 0.2501983 ]\n",
      " [0.15000088 0.1735549  0.76988073 0.57849737 0.30196591 0.05055159]]\n",
      "\n",
      "\n",
      "The random matrix with 0s is: [[0.         0.         0.         0.         0.         0.        ]\n",
      " [0.         0.         0.         0.         0.         0.        ]\n",
      " [0.         0.         0.         0.         0.         0.        ]\n",
      " [0.         0.         0.         0.         0.         0.        ]\n",
      " [0.56372517 0.41346965 0.75156831 0.6945988  0.71195809 0.9762981 ]\n",
      " [0.         0.         0.         0.         0.         0.        ]\n",
      " [0.56683304 0.60586893 0.61648269 0.57838253 0.63281062 0.38704439]\n",
      " [0.78236298 0.91666952 0.91615957 0.32984449 0.91798541 0.42709981]\n",
      " [0.45271388 0.53200464 0.19887458 0.4768846  0.19254795 0.2501983 ]\n",
      " [0.         0.         0.         0.         0.         0.        ]]\n"
     ]
    }
   ],
   "source": [
    "#create the matrix\n",
    "m=np.random.random((10, 6))\n",
    "print(\"The random matrix is:\", m)\n",
    "\n",
    "print(\"\\n\")\n",
    "np.any(m<0.1,axis=1)\n",
    "m[np.any(m<0.1,axis=1)]=0\n",
    "#array_np = np.asarray(m)\n",
    "#low_values_flags = array_np < 0.1  # Where values are low\n",
    "#array_np[low_values_flags] = 0  # All low values set to 0\n",
    "print(\"The random matrix with 0s is:\", m)"
   ]
  },
  {
   "cell_type": "markdown",
   "id": "ca008bd2",
   "metadata": {},
   "source": [
    "# Exercise 4\n",
    "\n",
    "### 4. Use np.linspace to create an array of 100 numbers between 0 and 2π (includsive).\n",
    "\n",
    "### - Extract every 10th element using slice notation\n",
    "\n",
    "### - Reverse the array using slice notation\n",
    "\n",
    "### - Extract elements where the absolute difference between the sine and cosine functions evaluated at that element is less than 0.1\n",
    "\n",
    "### - Make a plot showing the sin and cos functions and indicate where they are close\n"
   ]
  },
  {
   "cell_type": "code",
   "execution_count": 5,
   "id": "06424027",
   "metadata": {},
   "outputs": [
    {
     "name": "stdout",
     "output_type": "stream",
     "text": [
      "The matrix is: [0.         0.06346652 0.12693304 0.19039955 0.25386607 0.31733259\n",
      " 0.38079911 0.44426563 0.50773215 0.57119866 0.63466518 0.6981317\n",
      " 0.76159822 0.82506474 0.88853126 0.95199777 1.01546429 1.07893081\n",
      " 1.14239733 1.20586385 1.26933037 1.33279688 1.3962634  1.45972992\n",
      " 1.52319644 1.58666296 1.65012947 1.71359599 1.77706251 1.84052903\n",
      " 1.90399555 1.96746207 2.03092858 2.0943951  2.15786162 2.22132814\n",
      " 2.28479466 2.34826118 2.41172769 2.47519421 2.53866073 2.60212725\n",
      " 2.66559377 2.72906028 2.7925268  2.85599332 2.91945984 2.98292636\n",
      " 3.04639288 3.10985939 3.17332591 3.23679243 3.30025895 3.36372547\n",
      " 3.42719199 3.4906585  3.55412502 3.61759154 3.68105806 3.74452458\n",
      " 3.8079911  3.87145761 3.93492413 3.99839065 4.06185717 4.12532369\n",
      " 4.1887902  4.25225672 4.31572324 4.37918976 4.44265628 4.5061228\n",
      " 4.56958931 4.63305583 4.69652235 4.75998887 4.82345539 4.88692191\n",
      " 4.95038842 5.01385494 5.07732146 5.14078798 5.2042545  5.26772102\n",
      " 5.33118753 5.39465405 5.45812057 5.52158709 5.58505361 5.64852012\n",
      " 5.71198664 5.77545316 5.83891968 5.9023862  5.96585272 6.02931923\n",
      " 6.09278575 6.15625227 6.21971879 6.28318531]\n",
      "\n",
      "\n",
      "The 10 elements are: [0.         0.63466518 1.26933037 1.90399555 2.53866073 3.17332591\n",
      " 3.8079911  4.44265628 5.07732146 5.71198664]\n",
      "\n",
      "\n",
      "The reverse array is: [6.28318531 6.21971879 6.15625227 6.09278575 6.02931923 5.96585272\n",
      " 5.9023862  5.83891968 5.77545316 5.71198664 5.64852012 5.58505361\n",
      " 5.52158709 5.45812057 5.39465405 5.33118753 5.26772102 5.2042545\n",
      " 5.14078798 5.07732146 5.01385494 4.95038842 4.88692191 4.82345539\n",
      " 4.75998887 4.69652235 4.63305583 4.56958931 4.5061228  4.44265628\n",
      " 4.37918976 4.31572324 4.25225672 4.1887902  4.12532369 4.06185717\n",
      " 3.99839065 3.93492413 3.87145761 3.8079911  3.74452458 3.68105806\n",
      " 3.61759154 3.55412502 3.4906585  3.42719199 3.36372547 3.30025895\n",
      " 3.23679243 3.17332591 3.10985939 3.04639288 2.98292636 2.91945984\n",
      " 2.85599332 2.7925268  2.72906028 2.66559377 2.60212725 2.53866073\n",
      " 2.47519421 2.41172769 2.34826118 2.28479466 2.22132814 2.15786162\n",
      " 2.0943951  2.03092858 1.96746207 1.90399555 1.84052903 1.77706251\n",
      " 1.71359599 1.65012947 1.58666296 1.52319644 1.45972992 1.3962634\n",
      " 1.33279688 1.26933037 1.20586385 1.14239733 1.07893081 1.01546429\n",
      " 0.95199777 0.88853126 0.82506474 0.76159822 0.6981317  0.63466518\n",
      " 0.57119866 0.50773215 0.44426563 0.38079911 0.31733259 0.25386607\n",
      " 0.19039955 0.12693304 0.06346652 0.        ]\n",
      "\n",
      "\n",
      "the elements are: [0.7615982190520711, 0.8250647373064104, 3.8714576135146945, 3.934924131769034]\n"
     ]
    },
    {
     "data": {
      "image/png": "[encoded data removed]",
      "text/plain": [
       "<Figure size 432x288 with 1 Axes>"
      ]
     },
     "metadata": {
      "needs_background": "light"
     },
     "output_type": "display_data"
    },
    {
     "data": {
      "image/png": "[encoded data removed]",
      "text/plain": [
       "<Figure size 432x288 with 1 Axes>"
      ]
     },
     "metadata": {
      "needs_background": "light"
     },
     "output_type": "display_data"
    },
    {
     "data": {
      "image/png": "[encoded data removed]",
      "text/plain": [
       "<Figure size 432x288 with 1 Axes>"
      ]
     },
     "metadata": {
      "needs_background": "light"
     },
     "output_type": "display_data"
    }
   ],
   "source": [
    "import math \n",
    "\n",
    "#create the matrix\n",
    "\n",
    "array=np.linspace(0, 2*math.pi, num=100)\n",
    "print(\"The matrix is:\",array) \n",
    "\n",
    "print(\"\\n\")\n",
    "#Extract every 10th element using slice notation\n",
    "array_10=array[::10]\n",
    "print(\"The 10 elements are:\", array_10)\n",
    "\n",
    "print(\"\\n\")\n",
    "#Reverse the array using slice notation\n",
    "array_rev=array[::-1]\n",
    "print(\"The reverse array is:\", array_rev)\n",
    "\n",
    "#Extract elements where the absolute difference between the sine and cosine functions evaluated at that element is less than 0.1\n",
    "my_list=[]\n",
    "for i in array:\n",
    "    sen=math.sin(i)\n",
    "    cos=math.cos(i)\n",
    "    diff=abs(sen-cos)\n",
    "    if diff<0.1:\n",
    "        my_list.append(i)\n",
    "\n",
    "print(\"\\n\")\n",
    "print(\"the elements are:\", my_list)\n",
    "my_list=np.array(my_list) \n",
    "\n",
    "#Make a plot showing the sin and cos functions and indicate where they are close\n",
    "import matplotlib.pyplot as plt\n",
    "\n",
    "\n",
    "x = np.arange(0,2*np.pi,0.063)   # start,stop,step\n",
    "y = np.sin(x)\n",
    "#check they are 100 elements\n",
    "len(y)\n",
    "\n",
    "plt.plot(x,y)\n",
    "plt.show()\n",
    "\n",
    "z = np.cos(x)\n",
    "\n",
    "plt.plot(x,z)\n",
    "plt.show()\n",
    "\n",
    "\n",
    "plt.plot(x,y,x,z)\n",
    "plt.plot(my_list[0],math.sin(my_list[0]),marker=\"o\", markersize=7, markeredgecolor=\"yellow\", markerfacecolor=\"black\")\n",
    "plt.plot(my_list[0],math.cos(my_list[0]),marker=\"o\", markersize=4, markeredgecolor=\"red\", markerfacecolor=\"grey\")\n",
    "plt.plot(my_list[1],math.sin(my_list[1]),marker=\"o\", markersize=7, markeredgecolor=\"yellow\", markerfacecolor=\"black\")\n",
    "plt.plot(my_list[2],math.sin(my_list[2]),marker=\"o\", markersize=7, markeredgecolor=\"yellow\", markerfacecolor=\"black\")\n",
    "plt.plot(my_list[3],math.sin(my_list[3]),marker=\"o\", markersize=7, markeredgecolor=\"yellow\", markerfacecolor=\"black\")\n",
    "plt.plot(my_list[1],math.cos(my_list[1]),marker=\"o\", markersize=4, markeredgecolor=\"red\", markerfacecolor=\"grey\")\n",
    "plt.plot(my_list[2],math.cos(my_list[2]),marker=\"o\", markersize=4, markeredgecolor=\"red\", markerfacecolor=\"grey\")\n",
    "plt.plot(my_list[3],math.cos(my_list[3]),marker=\"o\", markersize=4, markeredgecolor=\"red\", markerfacecolor=\"grey\")\n",
    "plt.xlabel('x values from 0 to 2pi')  # string must be enclosed with quotes '  '\n",
    "plt.ylabel('sin(x) and cos(x)')\n",
    "plt.title('Plot of sin and cos from 0 to 2pi')\n",
    "plt.legend(['sin(x)', 'cos(x)', \"close points valuated in sin\",\"close points valuated in cos\"])      # legend entries as seperate strings in a list\n",
    "plt.show()"
   ]
  },
  {
   "cell_type": "markdown",
   "id": "62c6dcbc",
   "metadata": {},
   "source": [
    "# Exercise 5\n",
    "\n",
    "### 5. Create a matrix that shows the 10 by 10 multiplication table.\n",
    "\n",
    "### - Find the trace of the matrix\n",
    "\n",
    "### - Extract the anto-diagonal (this should be `array([10, 18, 24, 28, 30, 30, 28, 24, 18, 10])`)\n",
    "\n",
    "### - Extract the diagnoal offset by 1 upwards (this should be array( `[ 2, 6, 12, 20, 30, 42, 56, 72, 90])`)\n"
   ]
  },
  {
   "cell_type": "code",
   "execution_count": 6,
   "id": "aac61409",
   "metadata": {},
   "outputs": [
    {
     "name": "stdout",
     "output_type": "stream",
     "text": [
      "[[  1   2   3   4   5   6   7   8   9  10]\n",
      " [  2   4   6   8  10  12  14  16  18  20]\n",
      " [  3   6   9  12  15  18  21  24  27  30]\n",
      " [  4   8  12  16  20  24  28  32  36  40]\n",
      " [  5  10  15  20  25  30  35  40  45  50]\n",
      " [  6  12  18  24  30  36  42  48  54  60]\n",
      " [  7  14  21  28  35  42  49  56  63  70]\n",
      " [  8  16  24  32  40  48  56  64  72  80]\n",
      " [  9  18  27  36  45  54  63  72  81  90]\n",
      " [ 10  20  30  40  50  60  70  80  90 100]]\n",
      "\n",
      "\n",
      "the trace is: 385\n",
      "the anto-diagonal is: [10 18 24 28 30 30 28 24 18 10]\n",
      "the diagonal offset 1 is: [ 2  6 12 20 30 42 56 72 90]\n"
     ]
    }
   ],
   "source": [
    "matrix = [[x*y for x in range(1, 11)] for y in range(1, 11)]\n",
    "\n",
    "matrix=np.array(matrix)\n",
    "print(matrix)\n",
    "print(\"\\n\")\n",
    "\n",
    "#trace\n",
    "\n",
    "print(\"the trace is:\", matrix.trace(offset=0, axis1=0, axis2=1, dtype=None, out=None))\n",
    "\n",
    "\n",
    "#anto diago\n",
    "#reverse the matrix\n",
    "matrix_=matrix[::-1]\n",
    "print(\"the anto-diagonal is:\", np.diagonal(matrix_, offset=0, axis1=0, axis2=1))\n",
    "\n",
    "#the diagonal offset\n",
    "print(\"the diagonal offset 1 is:\", np.diagonal(matrix, offset=1, axis1=0, axis2=1))\n",
    "\n",
    "\n"
   ]
  },
  {
   "cell_type": "markdown",
   "id": "35c4a4a2",
   "metadata": {},
   "source": [
    "# Exercise 6\n",
    "\n",
    "### 6. Use broadcasting to create a grid of distances\n",
    "\n",
    "### Route 66 crosses the following cities in the US: Chicago, Springfield, Saint-Louis, Tulsa, Oklahoma City, Amarillo, Santa Fe, Albuquerque, Flagstaff, Los Angeles The corresponding positions in miles are: 0, 198, 303, 736, 871, 1175, 1475, 1544, 1913, 2448\n",
    "\n",
    "\n",
    "### - Construct a 2D grid of distances among each city along Route 66\n",
    "### - Convert that in km (those savages...)"
   ]
  },
  {
   "cell_type": "code",
   "execution_count": 13,
   "id": "9f0fb870",
   "metadata": {},
   "outputs": [
    {
     "name": "stdout",
     "output_type": "stream",
     "text": [
      "distance matrix: [[   0  198  303  736  871 1175 1475 1544 1913 2448]\n",
      " [ 198    0  105  538  673  977 1277 1346 1715 2250]\n",
      " [ 303  105    0  433  568  872 1172 1241 1610 2145]\n",
      " [ 736  538  433    0  135  439  739  808 1177 1712]\n",
      " [ 871  673  568  135    0  304  604  673 1042 1577]\n",
      " [1175  977  872  439  304    0  300  369  738 1273]\n",
      " [1475 1277 1172  739  604  300    0   69  438  973]\n",
      " [1544 1346 1241  808  673  369   69    0  369  904]\n",
      " [1913 1715 1610 1177 1042  738  438  369    0  535]\n",
      " [2448 2250 2145 1712 1577 1273  973  904  535    0]]\n",
      "\n",
      "\n",
      "distance matrix in km: [[   0.       318.64932  487.63002 1184.47424 1401.73514 1890.9745\n",
      "  2373.7765  2484.82096 3078.66742 3939.66432]\n",
      " [ 318.64932    0.       168.9807   865.82492 1083.08582 1572.32518\n",
      "  2055.12718 2166.17164 2760.0181  3621.015  ]\n",
      " [ 487.63002  168.9807     0.       696.84422  914.10512 1403.34448\n",
      "  1886.14648 1997.19094 2591.0374  3452.0343 ]\n",
      " [1184.47424  865.82492  696.84422    0.       217.2609   706.50026\n",
      "  1189.30226 1300.34672 1894.19318 2755.19008]\n",
      " [1401.73514 1083.08582  914.10512  217.2609     0.       489.23936\n",
      "   972.04136 1083.08582 1676.93228 2537.92918]\n",
      " [1890.9745  1572.32518 1403.34448  706.50026  489.23936    0.\n",
      "   482.802    593.84646 1187.69292 2048.68982]\n",
      " [2373.7765  2055.12718 1886.14648 1189.30226  972.04136  482.802\n",
      "     0.       111.04446  704.89092 1565.88782]\n",
      " [2484.82096 2166.17164 1997.19094 1300.34672 1083.08582  593.84646\n",
      "   111.04446    0.       593.84646 1454.84336]\n",
      " [3078.66742 2760.0181  2591.0374  1894.19318 1676.93228 1187.69292\n",
      "   704.89092  593.84646    0.       860.9969 ]\n",
      " [3939.66432 3621.015   3452.0343  2755.19008 2537.92918 2048.68982\n",
      "  1565.88782 1454.84336  860.9969     0.     ]]\n"
     ]
    }
   ],
   "source": [
    "mileposts = np.array([0, 198, 303, 736, 871, 1175, 1475, 1544,  1913, 2448])\n",
    "distance_array = np.abs(mileposts - mileposts[:, np.newaxis])\n",
    "print(\"distance matrix:\", distance_array)\n",
    "print(\"\\n\")\n",
    "\n",
    "\n",
    "#km\n",
    "distance_array_km=distance_array*1.60934\n",
    "print(\"distance matrix in km:\", distance_array_km)"
   ]
  },
  {
   "cell_type": "markdown",
   "id": "2d1c1338",
   "metadata": {},
   "source": [
    "# Exercise 7\n",
    "\n",
    "### 7. Prime numbers sieve: compute the prime numbers in the 0-N (N=99 to start with) range with a sieve (mask).\n",
    "\n",
    "\n",
    "### - Constract a shape (100,) boolean array, the mask\n",
    "### - Identify the multiples of each number starting from 2 and set accordingly the corresponding mask element\n",
    "### - Apply the mask to obtain an array of ordered prime numbers\n",
    "### - Check the performances (timeit); how does it scale with N?\n",
    "### - Implement the optimization suggested in the sieve of Eratosthenes"
   ]
  },
  {
   "cell_type": "code",
   "execution_count": 77,
   "id": "e96c398f",
   "metadata": {},
   "outputs": [
    {
     "name": "stdout",
     "output_type": "stream",
     "text": [
      "The prime numbers between 0 and  100 : \n",
      " [ 2  3  5  7 11 13 17 19 23 29 31 37 41 43 47 53 59 61 67 71 73 79 83 89\n",
      " 97]\n",
      "Time (in UTC) to find them -->  0.0005710124969482422\n",
      "\n",
      "The growth seems to scale as O(N^2)\n"
     ]
    },
    {
     "data": {
      "image/png": "[encoded data removed]",
      "text/plain": [
       "<Figure size 432x288 with 1 Axes>"
      ]
     },
     "metadata": {
      "needs_background": "light"
     },
     "output_type": "display_data"
    }
   ],
   "source": [
    "import time\n",
    "import matplotlib.pyplot as plt\n",
    "\n",
    "def prime(N):\n",
    "    start_time = time.time()\n",
    "    mask=np.ones(N,bool)\n",
    "    mask[0], mask[1] = 0, 0\n",
    "\n",
    "    for i in range(2,N):\n",
    "        for j in range (i-2):\n",
    "            if (i % (2+j) == 0):\n",
    "                mask[i] = False\n",
    "    return mask , (time.time() - start_time)\n",
    "\n",
    "N_star=100\n",
    "arr=np.arange(100)\n",
    "\n",
    "print(\"The prime numbers between 0 and \", N_star , \": \\n\", arr[prime(N_star)[0]])\n",
    "print(\"Time (in UTC) to find them --> \" , prime(N_star)[1])\n",
    "\n",
    "\n",
    "\n",
    "N_list=[10*x for x in range(1,200)]\n",
    "timing = []\n",
    "\n",
    "for N in N_list:\n",
    "    timing.append(prime(N)[1])\n",
    "    \n",
    "\n",
    "plt.plot(N_list, timing)\n",
    "plt.show\n",
    "\n",
    "print(\"\\nThe growth seems to scale as O(N^2)\")"
   ]
  },
  {
   "cell_type": "code",
   "execution_count": 85,
   "id": "7e8add84",
   "metadata": {},
   "outputs": [
    {
     "name": "stdout",
     "output_type": "stream",
     "text": [
      "The prime numbers are: [2, 3, 5, 7, 11, 13, 17, 19, 23, 29, 31, 37, 41, 43, 47, 53, 59, 61, 67, 71, 73, 79, 83, 89, 97]\n"
     ]
    }
   ],
   "source": [
    "#sieve of Eratosthenes\n",
    "\n",
    "def eratosthenes(n):\n",
    "    multiples = []\n",
    "    prime=[]\n",
    "    for i in range(2, n+1):\n",
    "        if i not in multiples:\n",
    "            prime.append(i)\n",
    "            for j in range(i*i, n+1, i):\n",
    "                multiples.append(j)\n",
    "    print(\"The prime numbers are:\", prime)\n",
    "\n",
    "eratosthenes(100)\n"
   ]
  },
  {
   "cell_type": "markdown",
   "id": "49878efb",
   "metadata": {},
   "source": [
    "# Exercise 8\n",
    "\n",
    "### 8. Diffusion using random walk\n",
    "\n",
    "### Consider a simple random walk process: at each step in time, a walker jumps right or left (+1 or -1) with equal probability. The goal is to find the typical distance from the origin of a random walker after a given amount of time. To do that, let's simulate many walkers and create a 2D array with each walker as a raw and the actual time evolution as columns\n",
    "\n",
    "### -Take 1000 walkers and let them walk for 200 steps\n",
    "### -Use randint to create a 2D array of size walkers x steps with values -1 or 1\n",
    "### -Build the actual walking distances for each walker (i.e. another 2D array \"summing on each raw\")\n",
    "### -Take the square of that 2D array (elementwise)\n",
    "### - Compute the mean of the squared distances at each step (i.e. the mean along the columns)\n",
    "### -Plot the average distances (sqrt(distance**2)) as a function of time (step) Did you get what you expected?"
   ]
  },
  {
   "cell_type": "code",
   "execution_count": 97,
   "id": "06982f4c",
   "metadata": {},
   "outputs": [
    {
     "name": "stderr",
     "output_type": "stream",
     "text": [
      "/var/folders/4w/3_rr3lld23b3lw07l54yf7q40000gn/T/ipykernel_26612/67924697.py:5: DeprecationWarning: This function is deprecated. Please call randint(0, 1 + 1) instead\n",
      "  steps = 2 * np.random.random_integers(0, 1, (n_stories, t_max)) - 1\n"
     ]
    },
    {
     "data": {
      "text/plain": [
       "Text(0, 0.5, '$\\\\sqrt{\\\\langle (\\\\delta x)^2 \\\\rangle}$')"
      ]
     },
     "execution_count": 97,
     "metadata": {},
     "output_type": "execute_result"
    },
    {
     "data": {
      "image/png": "[encoded data removed]",
      "text/plain": [
       "<Figure size 432x288 with 1 Axes>"
      ]
     },
     "metadata": {
      "needs_background": "light"
     },
     "output_type": "display_data"
    }
   ],
   "source": [
    "n_stories = 1000 # number of walkers\n",
    "t_max = 200 # time during which we follow the walker\n",
    "\n",
    "t = np.arange(t_max)\n",
    "steps = 2 * np.random.random_integers(0, 1, (n_stories, t_max)) - 1\n",
    "\n",
    "np.unique(steps) # Verification: all steps are 1 or -1\n",
    "\n",
    "positions = np.cumsum(steps, axis=1) # axis = 1: dimension of time\n",
    "\n",
    "sq_distance = positions**2\n",
    "\n",
    "mean_sq_distance = np.mean(sq_distance, axis=0)\n",
    "\n",
    "\n",
    "plt.plot(t, np.sqrt(mean_sq_distance), \"g.\", t, np.sqrt(t), \"y-\")\n",
    "plt.xlabel(r\"$t$\")\n",
    "plt.ylabel(r\"$\\sqrt{\\langle (\\delta x)^2 \\rangle}$\")"
   ]
  },
  {
   "cell_type": "markdown",
   "id": "8d606975",
   "metadata": {},
   "source": [
    "# Exercise 9 \n",
    "\n",
    "### Analyze a data file\n",
    "\n",
    "### - Download the population of hares, lynxes and carrots at the beginning of the last century.\n",
    "\n",
    "### -  ! wget https://www.dropbox.com/s/3vigxoqayo389uc/populations.txt\n",
    "\n",
    "### -  Check the content by looking within the file\n",
    "\n",
    "### - Load the data (use an appropriate numpy method) into a 2D array\n",
    "\n",
    "### - Create arrays out of the columns, the arrays being (in order): year, hares, lynxes, carrots\n",
    "\n",
    "### - Plot the 3 populations over the years\n",
    "\n",
    "### - Compute the main statistical properties of the dataset (mean, std, correlations, etc.)\n",
    "\n",
    "### - Which species has the highest population each year?\n",
    "\n",
    "### - Do you feel there is some evident correlation here? Studies tend to believe so."
   ]
  },
  {
   "cell_type": "code",
   "execution_count": 37,
   "id": "6cf46fd1",
   "metadata": {},
   "outputs": [
    {
     "name": "stdout",
     "output_type": "stream",
     "text": [
      "The first row of data set is: [ 1901. 47200.  6100. 48200.]\n",
      "The means of the 3 species are : [34080.95238095 20166.66666667 42400.        ]\n",
      "The std of the 3 species are : [20897.90645809 16254.59153691  3322.50622558]\n",
      "\n",
      "\n",
      "The correlation between hares and lynex is: [[1.         0.07189206]\n",
      " [0.07189206 1.        ]]\n",
      "\n",
      "\n",
      "The correlation between hares and carrots is: [[ 1.         -0.01660378]\n",
      " [-0.01660378  1.        ]]\n",
      "\n",
      "\n",
      "The correlation between lynxes and carrots is: [[ 1.         -0.68057717]\n",
      " [-0.68057717  1.        ]]\n",
      "Year: 1900.0 Species: Carrots\n",
      "Year: 1901.0 Species: Carrots\n",
      "Year: 1902.0 Species: Hares\n",
      "Year: 1903.0 Species: Hares\n",
      "Year: 1904.0 Species: Lynxes\n",
      "Year: 1905.0 Species: Lynxes\n",
      "Year: 1906.0 Species: Carrots\n",
      "Year: 1907.0 Species: Carrots\n",
      "Year: 1908.0 Species: Carrots\n",
      "Year: 1909.0 Species: Carrots\n",
      "Year: 1910.0 Species: Carrots\n",
      "Year: 1911.0 Species: Carrots\n",
      "Year: 1912.0 Species: Hares\n",
      "Year: 1913.0 Species: Hares\n",
      "Year: 1914.0 Species: Hares\n",
      "Year: 1915.0 Species: Lynxes\n",
      "Year: 1916.0 Species: Carrots\n",
      "Year: 1917.0 Species: Carrots\n",
      "Year: 1918.0 Species: Carrots\n",
      "Year: 1919.0 Species: Carrots\n",
      "Year: 1920.0 Species: Carrots\n"
     ]
    },
    {
     "data": {
      "image/png": "[encoded data removed]",
      "text/plain": [
       "<Figure size 864x432 with 1 Axes>"
      ]
     },
     "metadata": {
      "needs_background": "light"
     },
     "output_type": "display_data"
    }
   ],
   "source": [
    "# import data\n",
    "\n",
    "import numpy as np\n",
    "data = np.loadtxt('populations.txt')\n",
    "year, hares, lynxes, carrots = data.T # trick: columns to variables\n",
    "\n",
    "#check the content of first row\n",
    "print(\"The first row of data set is:\" , data[1])\n",
    "\n",
    "from matplotlib import pyplot as plt\n",
    "%matplotlib inline\n",
    "\n",
    "plt.figure(figsize=(12,6))\n",
    "plt.axes([0.2, 0.1, 0.5, 0.8]) \n",
    "plt.plot(year, hares, year, lynxes, year, carrots) \n",
    "plt.legend(('Hare', 'Lynx', 'Carrot'), loc=(1.05, 0.5)) \n",
    "\n",
    "#statistical values\n",
    "data1=data[:,1:]\n",
    "print(\"The means of the 3 species are :\", np.mean(data1, axis=0))\n",
    "print(\"The std of the 3 species are :\", np.std(data1, axis=0))\n",
    "print(\"\\n\")\n",
    "\n",
    "print(\"The correlation between hares and lynex is:\", np.corrcoef(data1[:,0], data1[:,1]))\n",
    "print(\"\\n\")\n",
    "print(\"The correlation between hares and carrots is:\", np.corrcoef(data1[:,0], data1[:,2]))\n",
    "print(\"\\n\")\n",
    "print(\"The correlation between lynxes and carrots is:\", np.corrcoef(data1[:,1], data1[:,2]))\n",
    "\n",
    "\n",
    "for i in range(len(data)):\n",
    "    if data[i,1] > data[i,2] and data[i,1] > data[i,3]:\n",
    "        print(\"Year:\", data[i,0], \"Species: Hares\")\n",
    "    elif data[i,2] > data[i,1] and data[i,2] > data[i,3]:\n",
    "        print(\"Year:\", data[i,0], \"Species: Lynxes\")\n",
    "    else: print(\"Year:\", data[i,0], \"Species: Carrots\")"
   ]
  },
  {
   "cell_type": "code",
   "execution_count": null,
   "id": "d484079a",
   "metadata": {},
   "outputs": [],
   "source": []
  }
 ],
 "metadata": {
  "kernelspec": {
   "display_name": "Python 3 (ipykernel)",
   "language": "python",
   "name": "python3"
  },
  "language_info": {
   "codemirror_mode": {
    "name": "ipython",
    "version": 3
   },
   "file_extension": ".py",
   "mimetype": "text/x-python",
   "name": "python",
   "nbconvert_exporter": "python",
   "pygments_lexer": "ipython3",
   "version": "3.10.4"
  }
 },
 "nbformat": 4,
 "nbformat_minor": 5
}
